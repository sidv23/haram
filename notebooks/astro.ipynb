{
 "cells": [
  {
   "cell_type": "code",
   "execution_count": 1,
   "id": "61598f63-5001-41d7-a5f9-e834a8aa23a4",
   "metadata": {},
   "outputs": [],
   "source": [
    "using DrWatson;\n",
    "@quickactivate \"haram\";"
   ]
  },
  {
   "cell_type": "code",
   "execution_count": 2,
   "id": "6326dfa6-6931-4d16-a290-de5c55e1a3c0",
   "metadata": {},
   "outputs": [],
   "source": [
    "using main\n",
    "using DynamicPPL, Bijectors\n",
    "using Zygote\n",
    "using LinearAlgebra, Plots, Pipe"
   ]
  },
  {
   "cell_type": "code",
   "execution_count": 10,
   "id": "1cfdef44-2302-4f33-814f-9f1f9eab331a",
   "metadata": {},
   "outputs": [],
   "source": [
    "Dists = (;\n",
    "    Δ = Uniform(−1178.939, 1179.939),\n",
    "    β = Uniform(-60, 60),\n",
    "    μ = Uniform(-39, 30),\n",
    "    σ2 = InverseGamma(1.0, 2e-7),\n",
    "    τ = InverseGamma(1.0, 1.0)\n",
    ");"
   ]
  },
  {
   "cell_type": "code",
   "execution_count": 14,
   "id": "d4ce8b67-a885-45fe-8204-5e6c93baf70b",
   "metadata": {},
   "outputs": [],
   "source": [
    "B = map(x -> bijector(x), Dists);\n",
    "Binv = map(x -> inverse(x), B);"
   ]
  },
  {
   "cell_type": "code",
   "execution_count": null,
   "id": "34687b99-af99-4940-8e83-3d17858ed80f",
   "metadata": {},
   "outputs": [],
   "source": []
  }
 ],
 "metadata": {
  "kernelspec": {
   "display_name": "Julia 1.8.3",
   "language": "julia",
   "name": "julia-1.8"
  },
  "language_info": {
   "file_extension": ".jl",
   "mimetype": "application/julia",
   "name": "julia",
   "version": "1.8.3"
  }
 },
 "nbformat": 4,
 "nbformat_minor": 5
}
