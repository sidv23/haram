{
 "cells": [
  {
   "cell_type": "code",
   "execution_count": 1,
   "id": "99a02101-c5b6-445b-ba9c-54a884090bd3",
   "metadata": {},
   "outputs": [],
   "source": [
    "using Plots"
   ]
  },
  {
   "cell_type": "markdown",
   "id": "605a2393-7406-45d2-b8bf-d6b6945b631c",
   "metadata": {},
   "source": [
    "$$\n",
    "\\newcommand{\\X}{\\mathcal{X}}\n",
    "$$"
   ]
  },
  {
   "cell_type": "markdown",
   "id": "1b9f584a-3c43-4ad4-9ebf-8bc3cd34fcfd",
   "metadata": {},
   "source": [
    "This is math in KaTeX\n",
    "\n",
    "$$\n",
    "\\sum_{i=1}^n \\mathbb X_i\n",
    "$$"
   ]
  },
  {
   "cell_type": "code",
   "execution_count": null,
   "id": "214cbe3c-d16e-4311-87a7-65cd0b2671e7",
   "metadata": {},
   "outputs": [
    {
     "name": "stderr",
     "output_type": "stream",
     "text": [
      "\u001b[32m\u001b[1m    Updating\u001b[22m\u001b[39m registry at `/storage/home/s/suv87/work/julia_depot/registries/General.toml`\n",
      "\u001b[32m\u001b[1m   Resolving\u001b[22m\u001b[39m package versions...\n",
      "\u001b[32m\u001b[1m   Installed\u001b[22m\u001b[39m CommonMark ───── v0.8.10\n",
      "\u001b[32m\u001b[1m   Installed\u001b[22m\u001b[39m JuliaFormatter ─ v1.0.20\n",
      "\u001b[32m\u001b[1m    Updating\u001b[22m\u001b[39m `/storage/work/s/suv87/julia/haram/Project.toml`\n",
      " \u001b[90m [2b0e0bc5] \u001b[39m\u001b[92m+ LanguageServer v4.3.1\u001b[39m\n",
      "\u001b[32m\u001b[1m    Updating\u001b[22m\u001b[39m `/storage/work/s/suv87/julia/haram/Manifest.toml`\n",
      " \u001b[90m [00ebfdb7] \u001b[39m\u001b[92m+ CSTParser v3.3.6\u001b[39m\n",
      " \u001b[90m [a80b9123] \u001b[39m\u001b[92m+ CommonMark v0.8.10\u001b[39m\n",
      " \u001b[90m [c27321d9] \u001b[39m\u001b[92m+ Glob v1.3.0\u001b[39m\n",
      " \u001b[90m [b9b8584e] \u001b[39m\u001b[92m+ JSONRPC v1.3.4\u001b[39m\n",
      " \u001b[90m [98e50ef6] \u001b[39m\u001b[92m+ JuliaFormatter v1.0.20\u001b[39m\n",
      " \u001b[90m [2b0e0bc5] \u001b[39m\u001b[92m+ LanguageServer v4.3.1\u001b[39m\n",
      " \u001b[90m [b3cc710f] \u001b[39m\u001b[92m+ StaticLint v8.1.0\u001b[39m\n",
      " \u001b[90m [cf896787] \u001b[39m\u001b[92m+ SymbolServer v7.2.1\u001b[39m\n",
      " \u001b[90m [0796e94c] \u001b[39m\u001b[92m+ Tokenize v0.5.25\u001b[39m\n",
      "\u001b[32m\u001b[1mPrecompiling\u001b[22m\u001b[39m "
     ]
    }
   ],
   "source": [
    "import Pkg; Pkg.add(\"LanguageServer\")"
   ]
  },
  {
   "cell_type": "code",
   "execution_count": null,
   "id": "72c7d528-3b56-41eb-aad9-22dc74088c92",
   "metadata": {},
   "outputs": [],
   "source": [
    "]status"
   ]
  },
  {
   "cell_type": "code",
   "execution_count": null,
   "id": "99dbe2f1-4ce4-468e-9ae9-b67ab1cd1175",
   "metadata": {},
   "outputs": [],
   "source": []
  }
 ],
 "metadata": {
  "kernelspec": {
   "display_name": "Julia 1.8.5",
   "language": "julia",
   "name": "julia-1.8"
  },
  "language_info": {
   "file_extension": ".jl",
   "mimetype": "application/julia",
   "name": "julia",
   "version": "1.8.5"
  }
 },
 "nbformat": 4,
 "nbformat_minor": 5
}
