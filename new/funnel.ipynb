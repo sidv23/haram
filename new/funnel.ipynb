{
 "cells": [
  {
   "cell_type": "code",
   "execution_count": 1,
   "id": "23dae944-f8e4-4921-b5e8-c4229a945ec5",
   "metadata": {},
   "outputs": [
    {
     "ename": "LoadError",
     "evalue": "LoadError: UndefVarError: @quickactivate not defined\nin expression starting at In[1]:2",
     "output_type": "error",
     "traceback": [
      "LoadError: UndefVarError: @quickactivate not defined\nin expression starting at In[1]:2",
      ""
     ]
    }
   ],
   "source": [
    "import DrWatson\n",
    "@quickactivate \"haram\""
   ]
  },
  {
   "cell_type": "code",
   "execution_count": 2,
   "id": "00e5b9ce-c4ab-4599-a468-c0e7d40c1803",
   "metadata": {},
   "outputs": [
    {
     "ename": "KeyError",
     "evalue": "KeyError: key \"usage_request\" not found",
     "output_type": "error",
     "traceback": [
      "KERNEL EXCEPTION",
      "KeyError: key \"usage_request\" not found",
      "",
      "Stacktrace:",
      " [1] getindex(h::Dict{String, Function}, key::String)",
      "   @ Base ./dict.jl:498",
      " [2] eventloop(socket::ZMQ.Socket)",
      "   @ IJulia /storage/home/s/suv87/work/julia_depot/packages/IJulia/6TIq1/src/eventloop.jl:8",
      " [3] (::IJulia.var\"#14#17\")()",
      "   @ IJulia ./task.jl:484"
     ]
    },
    {
     "ename": "KeyError",
     "evalue": "KeyError: key \"usage_request\" not found",
     "output_type": "error",
     "traceback": [
      "KERNEL EXCEPTION",
      "KeyError: key \"usage_request\" not found",
      "",
      "Stacktrace:",
      " [1] getindex(h::Dict{String, Function}, key::String)",
      "   @ Base ./dict.jl:498",
      " [2] eventloop(socket::ZMQ.Socket)",
      "   @ IJulia /storage/home/s/suv87/work/julia_depot/packages/IJulia/6TIq1/src/eventloop.jl:8",
      " [3] (::IJulia.var\"#14#17\")()",
      "   @ IJulia ./task.jl:484"
     ]
    }
   ],
   "source": [
    "using main\n",
    "using Plots, Random, Distributions, ProgressMeter\n",
    "using Flux, DynamicPPL, Zygote\n",
    "\n",
    "gr()\n",
    "theme(:default)\n",
    "default(fmt=:png, levels=7, lw=0.5, msw=0.5, la=0.5)\n",
    "ProgressMeter.ijulia_behavior(:clear);"
   ]
  },
  {
   "cell_type": "code",
   "execution_count": null,
   "id": "7e7d9a44-d006-4692-a2b5-a01161ef2206",
   "metadata": {},
   "outputs": [],
   "source": []
  }
 ],
 "metadata": {
  "kernelspec": {
   "display_name": "Julia 1.8.5",
   "language": "julia",
   "name": "julia-1.8"
  },
  "language_info": {
   "file_extension": ".jl",
   "mimetype": "application/julia",
   "name": "julia",
   "version": "1.8.5"
  }
 },
 "nbformat": 4,
 "nbformat_minor": 5
}
